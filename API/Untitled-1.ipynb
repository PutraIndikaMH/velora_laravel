{
 "cells": [
  {
   "cell_type": "code",
   "execution_count": null,
   "id": "3fa24204",
   "metadata": {},
   "outputs": [],
   "source": [
    "# For a single image with detailed visualization\n",
    "result = display_prediction_results(\"path_to_your_image.jpg\")\n",
    "\n",
    "# For multiple specific images\n",
    "image_paths = [\"image1.jpg\", \"image2.jpg\", \"image3.jpg\"]\n",
    "batch_results = batch_predict_images(image_paths)\n",
    "\n",
    "# For all images in a folder\n",
    "folder_results = predict_from_folder(\"path_to_your_test_folder\")\n",
    "\n",
    "# For quick prediction without visualization\n",
    "result = make_single_prediction(\"path_to_your_image.jpg\")"
   ]
  }
 ],
 "metadata": {
  "language_info": {
   "name": "python"
  }
 },
 "nbformat": 4,
 "nbformat_minor": 5
}
