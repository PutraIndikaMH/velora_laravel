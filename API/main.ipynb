{
 "cells": [
  {
   "cell_type": "code",
   "execution_count": 7,
   "id": "bcf2f4ce",
   "metadata": {},
   "outputs": [],
   "source": [
    "import torch\n",
    "import torch.nn as nn\n",
    "import pickle\n",
    "from PIL import Image\n",
    "from torchvision import transforms\n",
    "from torchvision.models import resnet50\n",
    "import os\n",
    "\n",
    "def predict_skin_type(model_path, label_maps_path, image_path):\n",
    "    \"\"\"\n",
    "    Simple function to predict skin type and return only the classification\n",
    "    \n",
    "    Args:\n",
    "        model_path: Path t`o the saved model (.pth file)\n",
    "        label_maps_path: Path to the saved label mappings (.pkl file)\n",
    "        image_path: Path to the image to classify\n",
    "        \n",
    "    Returns:\n",
    "        String: 'dry', 'normal', or 'oily'\n",
    "    \"\"\"\n",
    "    # Set device\n",
    "    device = torch.device(\"cuda\" if torch.cuda.is_available() else \"cpu\")\n",
    "    \n",
    "    # Load label mappings\n",
    "    with open(label_maps_path, 'rb') as f:\n",
    "        label_data = pickle.load(f)\n",
    "        index_label = label_data.get('index_label', {0: \"dry\", 1: \"normal\", 2: \"oily\"})\n",
    "    \n",
    "    # Load model\n",
    "    model = resnet50(weights=None)\n",
    "    model.fc = nn.Linear(model.fc.in_features, 3)  # 3 classes\n",
    "    \n",
    "    checkpoint = torch.load(model_path, map_location=device)\n",
    "    if 'model_state_dict' in checkpoint:\n",
    "        model.load_state_dict(checkpoint['model_state_dict'])\n",
    "    elif 'state_dict' in checkpoint:\n",
    "        model.load_state_dict(checkpoint['state_dict'])\n",
    "    else:\n",
    "        model.load_state_dict(checkpoint)\n",
    "    \n",
    "    model = model.to(device)\n",
    "    model.eval()\n",
    "    \n",
    "    # Image preprocessing\n",
    "    transform = transforms.Compose([\n",
    "        transforms.Resize(256),\n",
    "        transforms.CenterCrop(224),\n",
    "        transforms.ToTensor(),\n",
    "        transforms.Normalize(\n",
    "            mean=[0.485, 0.456, 0.406],\n",
    "            std=[0.229, 0.224, 0.225]\n",
    "        )\n",
    "    ])\n",
    "    \n",
    "    # Load and preprocess image\n",
    "    image = Image.open(image_path).convert('RGB')\n",
    "    tensor = transform(image).unsqueeze(0).to(device)\n",
    "    \n",
    "    # Make prediction\n",
    "    with torch.no_grad():\n",
    "        outputs = model(tensor)\n",
    "        predicted_class = torch.argmax(outputs, dim=1).item()\n",
    "    \n",
    "    return index_label[predicted_class]\n"
   ]
  },
  {
   "cell_type": "code",
   "execution_count": 8,
   "id": "9b6612ee",
   "metadata": {},
   "outputs": [
    {
     "name": "stdout",
     "output_type": "stream",
     "text": [
      "oily\n"
     ]
    }
   ],
   "source": [
    "\n",
    "# Example usage\n",
    "if __name__ == \"__main__\":\n",
    "    MODEL_PATH = r\"D:\\Semester 4\\API_AI_RPL\\best_skin_model_threepred.pth\"\n",
    "    LABEL_MAPS_PATH = r\"D:\\Semester 4\\API_AI_RPL\\label_maps.pkl\"\n",
    "    \n",
    "    # Single image prediction\n",
    "    image_path = r\"D:\\Semester 4\\API_AI_RPL\\images.jpg\"  # Replace with your image path\n",
    "    \n",
    "    if os.path.exists(image_path):\n",
    "        prediction = predict_skin_type(MODEL_PATH, LABEL_MAPS_PATH, image_path)\n",
    "        print(prediction)\n",
    "    else:\n",
    "        print(\"Image file not found\")\n",
    "    \n",
    "    # For multiple images\n",
    "    \n",
    "    # for img_path in image_paths:\n",
    "    #     if os.path.exists(img_path):\n",
    "    #         prediction = predict_skin_type(MODEL_PATH, LABEL_MAPS_PATH, img_path)\n",
    "    #         print(f\"{os.path.basename(img_path)}: {prediction}\")\n",
    "    #     else:\n",
    "    #         print(f\"{os.path.basename(img_path)}: file not found\")"
   ]
  }
 ],
 "metadata": {
  "kernelspec": {
   "display_name": "Python 3",
   "language": "python",
   "name": "python3"
  },
  "language_info": {
   "codemirror_mode": {
    "name": "ipython",
    "version": 3
   },
   "file_extension": ".py",
   "mimetype": "text/x-python",
   "name": "python",
   "nbconvert_exporter": "python",
   "pygments_lexer": "ipython3",
   "version": "3.11.4"
  }
 },
 "nbformat": 4,
 "nbformat_minor": 5
}
